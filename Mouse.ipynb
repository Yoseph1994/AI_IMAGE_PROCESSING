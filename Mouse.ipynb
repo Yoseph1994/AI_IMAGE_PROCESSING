{
 "cells": [
  {
   "cell_type": "code",
   "execution_count": null,
   "id": "3cbbd1e6-a680-478c-9f01-de796a7cc5be",
   "metadata": {
    "tags": []
   },
   "outputs": [],
   "source": [
    "import mediapipe as mp"
   ]
  },
  {
   "cell_type": "code",
   "execution_count": null,
   "id": "60a8857c-3fd1-455d-bacf-29693734a9d0",
   "metadata": {
    "tags": []
   },
   "outputs": [],
   "source": [
    "import pyautogui"
   ]
  },
  {
   "cell_type": "code",
   "execution_count": null,
   "id": "2cec2cf5-a88f-4ab3-ad5a-f40bea6bb831",
   "metadata": {
    "tags": []
   },
   "outputs": [],
   "source": [
    "import cv2"
   ]
  },
  {
   "cell_type": "code",
   "execution_count": null,
   "id": "67383f74-d49c-493e-9050-840556a9d653",
   "metadata": {
    "tags": []
   },
   "outputs": [],
   "source": [
    "cap=cv2.VideoCapture(0)\n",
    "hand_detector=mp.solutions.hands.Hands()\n",
    "drawing_utils=mp.solutions.drawing_utils\n",
    "screen_width, screen_height=pyautogui.size()\n",
    "index_y=0"
   ]
  },
  {
   "cell_type": "code",
   "execution_count": null,
   "id": "6d11bcd5-26a1-4330-9015-c1fe38ac4bcc",
   "metadata": {
    "tags": []
   },
   "outputs": [],
   "source": [
    "\n",
    "while True:\n",
    "    _,frame=cap.read()\n",
    "    frame=cv2.flip(frame,1)\n",
    "    frame_height, frame_width, _=frame.shape\n",
    "    rgb_frame=cv2.cvtColor(frame, cv2.COLOR_BGR2RGB)\n",
    "    output=hand_detector.process(rgb_frame)\n",
    "    hands=output.multi_hand_landmarks\n",
    "    if(hands):\n",
    "        for hand in hands:\n",
    "            drawing_utils.draw_landmarks(frame,hand)\n",
    "            landmarks=hand.landmark\n",
    "            for id, landmark in enumerate(landmarks):\n",
    "                x=int(landmark.x*frame_width)\n",
    "                y=int(landmark.y*frame_height)\n",
    "                if id==8:\n",
    "                    cv2.circle(img=frame, center=(x,y), radius=10, color=(0,255,255))\n",
    "                    index_x=screen_width/frame_width*x\n",
    "                    index_y=screen_height/frame_height*y\n",
    "                    pyautogui.moveTo(index_x,index_y)\n",
    "                if id==4:\n",
    "                    cv2.circle(img=frame, center=(x,y), radius=10, color=(0,255,255))\n",
    "                    thumb_x=screen_width/frame_width*x\n",
    "                    thumb_y=screen_height/frame_height*y\n",
    "        \n",
    "                    if abs(index_y - thumb_y) < 20:\n",
    "                        pyautogui.click()\n",
    "                        pyautogui.sleep(1)\n",
    "                        print(\"CLICK\")\n",
    "                    \n",
    "                    \n",
    "    \n",
    "    cv2.imshow(\"virtual Mouse\", frame)\n",
    "    cv2.waitKey(1)\n",
    "    \n",
    "    \n"
   ]
  },
  {
   "cell_type": "code",
   "execution_count": null,
   "id": "d86218b2-d5a5-4856-953f-68485371bdda",
   "metadata": {},
   "outputs": [],
   "source": []
  },
  {
   "cell_type": "code",
   "execution_count": null,
   "id": "61aaf896-743e-44b5-be88-a64fe020e0c8",
   "metadata": {},
   "outputs": [],
   "source": []
  }
 ],
 "metadata": {
  "kernelspec": {
   "display_name": "Python 3 (ipykernel)",
   "language": "python",
   "name": "python3"
  },
  "language_info": {
   "codemirror_mode": {
    "name": "ipython",
    "version": 3
   },
   "file_extension": ".py",
   "mimetype": "text/x-python",
   "name": "python",
   "nbconvert_exporter": "python",
   "pygments_lexer": "ipython3",
   "version": "3.11.5"
  }
 },
 "nbformat": 4,
 "nbformat_minor": 5
}
